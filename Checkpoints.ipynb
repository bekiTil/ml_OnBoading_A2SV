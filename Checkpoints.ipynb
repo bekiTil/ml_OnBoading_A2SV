{
  "cells": [
    {
      "cell_type": "markdown",
      "id": "70d68298",
      "metadata": {
        "id": "70d68298"
      },
      "source": [
        "# Checkpoints"
      ]
    },
    {
      "cell_type": "markdown",
      "id": "67d0260a",
      "metadata": {
        "id": "67d0260a"
      },
      "source": [
        "**CP1**:\n",
        "Given the list $[A, B, C]$, use the `itertools` module to generate all possible\n",
        "combinations of 2 elements.\n",
        "\n",
        "**Expected Output**:\n",
        "$$\n",
        " (A, B) \\\\\n",
        " (A, C) \\\\\n",
        " (B, C)\n",
        "$$"
      ]
    },
    {
      "cell_type": "code",
      "execution_count": 4,
      "id": "9dd63d67",
      "metadata": {
        "id": "9dd63d67",
        "colab": {
          "base_uri": "https://localhost:8080/"
        },
        "outputId": "94bc3f5d-8882-41d2-8709-970b089e698c"
      },
      "outputs": [
        {
          "output_type": "stream",
          "name": "stdout",
          "text": [
            "('A', 'B')\n",
            "('A', 'C')\n",
            "('B', 'C')\n"
          ]
        }
      ],
      "source": [
        "import itertools\n",
        "elements = ['A', 'B', 'C']\n",
        "\n",
        "combinations = list(itertools.combinations(elements, 2))\n",
        "\n",
        "for combination in combinations:\n",
        "    print(combination)"
      ]
    },
    {
      "cell_type": "markdown",
      "id": "31c15dce",
      "metadata": {
        "id": "31c15dce"
      },
      "source": [
        "**CP2**:\n",
        "Use the `itertools` module to create a sequence that cycles through\n",
        "['Python', 'is', 'fun'] infinitely. Print the first 10 elements of the sequence.\n",
        "\n",
        "**Expected Output**:\n",
        "$$\n",
        "Python \\\\\n",
        "is\\\\\n",
        "fun\\\\\n",
        "Python\\\\\n",
        "is\\\\\n",
        "fun\\\\\n",
        "Python\\\\\n",
        "is\\\\\n",
        "fun\\\\\n",
        "Python\n",
        "$$"
      ]
    },
    {
      "cell_type": "code",
      "execution_count": 5,
      "id": "c75f246c",
      "metadata": {
        "id": "c75f246c",
        "colab": {
          "base_uri": "https://localhost:8080/"
        },
        "outputId": "d8bd544c-e4fb-491a-d2a7-0525ce3ea7f4"
      },
      "outputs": [
        {
          "output_type": "stream",
          "name": "stdout",
          "text": [
            "Python\n",
            "is\n",
            "fun\n",
            "Python\n",
            "is\n",
            "fun\n",
            "Python\n",
            "is\n",
            "fun\n",
            "Python\n"
          ]
        }
      ],
      "source": [
        "sequence = itertools.cycle(['Python', 'is', 'fun'])\n",
        "\n",
        "for _ in range(10):\n",
        "    print(next(sequence))"
      ]
    },
    {
      "cell_type": "markdown",
      "id": "cbef0f63",
      "metadata": {
        "id": "cbef0f63"
      },
      "source": [
        "**CP3**:\n",
        "Use the `glob` module to list all python (.py) files in your current working directory.\n",
        "\n",
        "\n"
      ]
    },
    {
      "cell_type": "code",
      "execution_count": 6,
      "id": "3e62d5b4",
      "metadata": {
        "id": "3e62d5b4"
      },
      "outputs": [],
      "source": [
        "import glob\n",
        "\n",
        "python_files = glob.glob('*.py')\n",
        "\n",
        "for file in python_files:\n",
        "    print(file)"
      ]
    },
    {
      "cell_type": "markdown",
      "id": "d266d698",
      "metadata": {
        "id": "d266d698"
      },
      "source": [
        "**CP4**: You are given the following HTML content below. Write a function that uses BeautifulSoup to parse the HTML and extract the text inside the   '$<p>$'   tag.\n"
      ]
    },
    {
      "cell_type": "code",
      "execution_count": 7,
      "id": "27f941c8",
      "metadata": {
        "id": "27f941c8"
      },
      "outputs": [],
      "source": [
        "html_content= \"<html><body><div class='main'><h1>Welcome to AI</h1><p>AI is transforming the world</p></div></body></html>\""
      ]
    },
    {
      "cell_type": "code",
      "execution_count": 10,
      "id": "6fb1cdcf",
      "metadata": {
        "id": "6fb1cdcf",
        "colab": {
          "base_uri": "https://localhost:8080/",
          "height": 35
        },
        "outputId": "2c9b3b4a-db4d-4c6f-9f51-03f4251893ef"
      },
      "outputs": [
        {
          "output_type": "execute_result",
          "data": {
            "text/plain": [
              "'AI is transforming the world'"
            ],
            "application/vnd.google.colaboratory.intrinsic+json": {
              "type": "string"
            }
          },
          "metadata": {},
          "execution_count": 10
        }
      ],
      "source": [
        "from bs4 import BeautifulSoup\n",
        "\n",
        "def extract_text_from_html(html_content):\n",
        "    soup = BeautifulSoup(html_content, 'html.parser')\n",
        "    paragraph_text = soup.find('p').get_text()\n",
        "\n",
        "    return paragraph_text\n",
        "extract_text_from_html(html_content)"
      ]
    },
    {
      "cell_type": "markdown",
      "id": "a1fce3ef",
      "metadata": {
        "id": "a1fce3ef"
      },
      "source": [
        "**CP5**: Write a function that uses the re module to replace all occurrences of the word \"AI\" with \"Artificial Intelligence\" in a given text."
      ]
    },
    {
      "cell_type": "code",
      "execution_count": 12,
      "id": "07178a2d",
      "metadata": {
        "id": "07178a2d",
        "colab": {
          "base_uri": "https://localhost:8080/",
          "height": 35
        },
        "outputId": "8d1311bd-4980-42f8-a2b5-6836cd3ce98f"
      },
      "outputs": [
        {
          "output_type": "execute_result",
          "data": {
            "text/plain": [
              "'Artificial Intelligence is a branch of computer science.'"
            ],
            "application/vnd.google.colaboratory.intrinsic+json": {
              "type": "string"
            }
          },
          "metadata": {},
          "execution_count": 12
        }
      ],
      "source": [
        "import re\n",
        "\n",
        "def replace_word(text):\n",
        "    replaced_text = re.sub(r'\\bAI\\b', 'Artificial Intelligence', text)\n",
        "    return replaced_text\n",
        "text = \"AI is a branch of computer science.\"\n",
        "replaced_text = replace_word(text)\n",
        "replaced_text\n"
      ]
    },
    {
      "cell_type": "markdown",
      "id": "4e471de6",
      "metadata": {
        "id": "4e471de6"
      },
      "source": [
        "**CP6**: Create a numpy array of 10 zeros."
      ]
    },
    {
      "cell_type": "code",
      "execution_count": 14,
      "id": "7f6e9acb",
      "metadata": {
        "id": "7f6e9acb",
        "colab": {
          "base_uri": "https://localhost:8080/"
        },
        "outputId": "b84f5b90-114d-40d0-e0ab-f4974f724d56"
      },
      "outputs": [
        {
          "output_type": "execute_result",
          "data": {
            "text/plain": [
              "array([0., 0., 0., 0., 0., 0., 0., 0., 0., 0.])"
            ]
          },
          "metadata": {},
          "execution_count": 14
        }
      ],
      "source": [
        "import numpy as np\n",
        "\n",
        "zeros_array = np.zeros(10)\n",
        "zeros_array"
      ]
    },
    {
      "cell_type": "markdown",
      "id": "5f52a63e",
      "metadata": {
        "id": "5f52a63e"
      },
      "source": [
        "**CP7** Create a numpy array of the integers from 10 to 49."
      ]
    },
    {
      "cell_type": "code",
      "execution_count": 16,
      "id": "ddb01e9a",
      "metadata": {
        "id": "ddb01e9a",
        "colab": {
          "base_uri": "https://localhost:8080/"
        },
        "outputId": "4da50197-91c9-4dc4-9c85-8d95da3e3ba2"
      },
      "outputs": [
        {
          "output_type": "execute_result",
          "data": {
            "text/plain": [
              "array([10, 11, 12, 13, 14, 15, 16, 17, 18, 19, 20, 21, 22, 23, 24, 25, 26,\n",
              "       27, 28, 29, 30, 31, 32, 33, 34, 35, 36, 37, 38, 39, 40, 41, 42, 43,\n",
              "       44, 45, 46, 47, 48, 49])"
            ]
          },
          "metadata": {},
          "execution_count": 16
        }
      ],
      "source": [
        "array = np.arange(10, 50)\n",
        "array"
      ]
    },
    {
      "cell_type": "markdown",
      "id": "79e4d614",
      "metadata": {
        "id": "79e4d614"
      },
      "source": [
        "**CP8**: Create a 3x3 numpy matrix, filled with values ranging from 0 to 8."
      ]
    },
    {
      "cell_type": "code",
      "execution_count": 17,
      "id": "d3eddea4",
      "metadata": {
        "id": "d3eddea4",
        "colab": {
          "base_uri": "https://localhost:8080/"
        },
        "outputId": "95528d61-84ed-44a7-97e9-e4259b9a7841"
      },
      "outputs": [
        {
          "output_type": "execute_result",
          "data": {
            "text/plain": [
              "array([[0, 1, 2],\n",
              "       [3, 4, 5],\n",
              "       [6, 7, 8]])"
            ]
          },
          "metadata": {},
          "execution_count": 17
        }
      ],
      "source": [
        "array = np.arange(9)\n",
        "matrix = array.reshape(3, 3)\n",
        "matrix"
      ]
    },
    {
      "cell_type": "markdown",
      "id": "1b09270f",
      "metadata": {
        "id": "1b09270f"
      },
      "source": [
        "**CP9**: Explain why machine learning models require large amounts of data? What does it mean for an amount of data to be **large**?"
      ]
    },
    {
      "cell_type": "markdown",
      "source": [
        "Machine learning models require large amounts of data to improve their accuracy and generalization. Large data sets provide more diverse examples, enabling the model to capture a wider range of patterns and variations in the data. This helps the model to make more reliable predictions and handle real-world complexities. \"Large\" data refers to having a sufficient number of diverse instances that adequately cover the variations and patterns in the problem domain. It helps reduce bias, improve feature representation, enhance stability, and mitigate overfitting."
      ],
      "metadata": {
        "id": "Hpwx4ozGt3tz"
      },
      "id": "Hpwx4ozGt3tz"
    },
    {
      "cell_type": "markdown",
      "id": "1a357bde",
      "metadata": {
        "id": "1a357bde"
      },
      "source": [
        "**CP10**: Explain 2 ways AI can be used in an adverserial way, and what can be done to prevent it."
      ]
    },
    {
      "cell_type": "markdown",
      "source": [
        "AI can be used in harmful ways through techniques like tricking security systems or creating fake videos. To prevent this, we need strong security measures, like training AI models to be more resistant to attacks and developing ways to detect and stop malicious AI use."
      ],
      "metadata": {
        "id": "Xy3NH-4luPO-"
      },
      "id": "Xy3NH-4luPO-"
    }
  ],
  "metadata": {
    "kernelspec": {
      "display_name": "Python 3 (ipykernel)",
      "language": "python",
      "name": "python3"
    },
    "language_info": {
      "codemirror_mode": {
        "name": "ipython",
        "version": 3
      },
      "file_extension": ".py",
      "mimetype": "text/x-python",
      "name": "python",
      "nbconvert_exporter": "python",
      "pygments_lexer": "ipython3",
      "version": "3.8.2"
    },
    "varInspector": {
      "cols": {
        "lenName": 16,
        "lenType": 16,
        "lenVar": 40
      },
      "kernels_config": {
        "python": {
          "delete_cmd_postfix": "",
          "delete_cmd_prefix": "del ",
          "library": "var_list.py",
          "varRefreshCmd": "print(var_dic_list())"
        },
        "r": {
          "delete_cmd_postfix": ") ",
          "delete_cmd_prefix": "rm(",
          "library": "var_list.r",
          "varRefreshCmd": "cat(var_dic_list()) "
        }
      },
      "types_to_exclude": [
        "module",
        "function",
        "builtin_function_or_method",
        "instance",
        "_Feature"
      ],
      "window_display": false
    },
    "colab": {
      "provenance": []
    }
  },
  "nbformat": 4,
  "nbformat_minor": 5
}